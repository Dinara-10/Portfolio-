{
  "cells": [
    {
      "cell_type": "code",
      "execution_count": 52,
      "id": "4cdea7cd-434a-4802-8408-18a485c2f84e",
      "metadata": {
        "id": "4cdea7cd-434a-4802-8408-18a485c2f84e"
      },
      "outputs": [],
      "source": [
        "import torch\n",
        "from torch.autograd import Variable\n",
        "import numpy as np\n",
        "import unittest\n",
        "import torch.nn as nn\n",
        "\n",
        "import matplotlib.pyplot as plt\n",
        "from torchvision.datasets import MNIST\n",
        "import torchvision.transforms as T\n",
        "import torchvision"
      ]
    },
    {
      "cell_type": "code",
      "source": [
        "from sklearn.datasets import fetch_california_housing\n",
        "from sklearn.model_selection import train_test_split\n",
        "from sklearn.preprocessing import StandardScaler"
      ],
      "metadata": {
        "id": "zlJMTnSBVvA5"
      },
      "id": "zlJMTnSBVvA5",
      "execution_count": 53,
      "outputs": []
    },
    {
      "cell_type": "code",
      "execution_count": 54,
      "id": "a100ff39-282c-48b6-8ad7-b3eb05eb3021",
      "metadata": {
        "id": "a100ff39-282c-48b6-8ad7-b3eb05eb3021"
      },
      "outputs": [],
      "source": [
        "%run homework_modules.ipynb"
      ]
    },
    {
      "cell_type": "markdown",
      "source": [
        "## Оптимайзер под наши классы"
      ],
      "metadata": {
        "id": "0Brl7PJsyPTZ"
      },
      "id": "0Brl7PJsyPTZ"
    },
    {
      "cell_type": "code",
      "source": [
        "class Adam:\n",
        "    def __init__(self, model, lr=0.001, beta_1=0.9, beta_2=0.999, EPS=1e-8):\n",
        "        self.lr = lr\n",
        "        self.beta_1 = beta_1\n",
        "        self.beta_2 = beta_2\n",
        "        self.EPS = EPS\n",
        "        self.t = 0\n",
        "\n",
        "        self.params = []\n",
        "        self.grads = []\n",
        "\n",
        "        for layer in model.models:\n",
        "            layer_params = []\n",
        "            layer_grads = []\n",
        "\n",
        "\n",
        "            for attr_name in dir(layer):\n",
        "                if attr_name.startswith('grad'):\n",
        "                    param_name = attr_name[4:]\n",
        "                    if hasattr(layer, param_name):\n",
        "                        layer_params.append(getattr(layer, param_name))\n",
        "                        layer_grads.append(getattr(layer, attr_name))\n",
        "\n",
        "            if layer_params:\n",
        "                self.params.append(layer_params)\n",
        "                self.grads.append(layer_grads)\n",
        "\n",
        "        self.m = [[np.zeros_like(p) for p in layer_params] for layer_params in self.params]\n",
        "        self.v = [[np.zeros_like(p) for p in layer_params] for layer_params in self.params]\n",
        "\n",
        "    def step(self):\n",
        "        self.t += 1\n",
        "        for i in range(len(self.params)):\n",
        "            for j in range(len(self.params[i])):\n",
        "                if self.grads[i][j] is None:\n",
        "                    continue\n",
        "\n",
        "                self.m[i][j] = self.beta_1 * self.m[i][j] + (1 - self.beta_1) * self.grads[i][j]\n",
        "                self.v[i][j] = self.beta_2 * self.v[i][j] + (1 - self.beta_2) * (self.grads[i][j] ** 2)\n",
        "\n",
        "                m_hat = self.m[i][j] / (1 - self.beta_1 ** self.t)\n",
        "                v_hat = self.v[i][j] / (1 - self.beta_2 ** self.t)\n",
        "\n",
        "                self.params[i][j] -= self.lr * m_hat / (np.sqrt(v_hat) + self.EPS)\n",
        "\n",
        "    def zero_grad(self):\n",
        "        for l in model.layers:\n",
        "            l.zeroGradParameters()"
      ],
      "metadata": {
        "id": "eoZfAWvQUEws"
      },
      "id": "eoZfAWvQUEws",
      "execution_count": 55,
      "outputs": []
    },
    {
      "cell_type": "markdown",
      "source": [
        "## Мультирегрессия?"
      ],
      "metadata": {
        "id": "hyOG3KV9V0lg"
      },
      "id": "hyOG3KV9V0lg"
    },
    {
      "cell_type": "code",
      "source": [
        "data = fetch_california_housing()\n",
        "X = data.data\n",
        "y = data.target.reshape(-1, 1)\n",
        "\n",
        "y = np.hstack([y, X[:, 2].reshape(-1, 1)])\n",
        "\n",
        "X_train, X_test, y_train, y_test = train_test_split(X, y, test_size=0.2, random_state=42)\n",
        "\n",
        "scaler = StandardScaler()\n",
        "X_train = scaler.fit_transform(X_train)\n",
        "X_test = scaler.transform(X_test)"
      ],
      "metadata": {
        "id": "dH-jWwRvV0G4"
      },
      "id": "dH-jWwRvV0G4",
      "execution_count": 56,
      "outputs": []
    },
    {
      "cell_type": "code",
      "source": [
        "def mse_loss(output, target):\n",
        "    return np.mean((output - target) ** 2)"
      ],
      "metadata": {
        "id": "luMWI3INW0tz"
      },
      "id": "luMWI3INW0tz",
      "execution_count": 58,
      "outputs": []
    },
    {
      "cell_type": "code",
      "source": [
        "def train_model(model, optimizer, X_train, y_train, X_test, y_test, epochs=35):\n",
        "    train_losses = []\n",
        "    test_losses = []\n",
        "\n",
        "    for epoch in range(epochs):\n",
        "        model.zeroGradParameters()\n",
        "        train_loss = 0\n",
        "\n",
        "        for i in range(0, len(X_train), 32):\n",
        "            X_batch = X_train[i:i+32]\n",
        "            y_batch = y_train[i:i+32]\n",
        "\n",
        "            output = model.updateOutput(X_batch)\n",
        "            loss = mse_loss(output, y_batch)\n",
        "            train_loss += loss\n",
        "\n",
        "            grad_output = (output - y_batch) / len(X_batch)\n",
        "            model.updateGradInput(X_batch, grad_output)\n",
        "            model.accGradParameters(X_batch, grad_output)\n",
        "            optimizer.step()\n",
        "\n",
        "        train_losses.append(train_loss / (len(X_train) // 32))\n",
        "\n",
        "        test_loss = 0\n",
        "        for i in range(0, len(X_test), 32):\n",
        "            X_batch = X_test[i:i+32]\n",
        "            y_batch = y_test[i:i+32]\n",
        "\n",
        "            output = model.forward(X_batch)\n",
        "            test_loss += mse_loss(output, y_batch)\n",
        "\n",
        "        test_losses.append(test_loss / (len(X_test) // 32))\n",
        "\n",
        "        print(f\"Epoch {epoch+1}/{epochs}, Train Loss: {train_losses[-1]:.4f}, Test Loss: {test_losses[-1]:.4f}\")\n",
        "\n",
        "    return train_losses, test_losses\n"
      ],
      "metadata": {
        "id": "09WUHUScU_e2"
      },
      "id": "09WUHUScU_e2",
      "execution_count": 59,
      "outputs": []
    },
    {
      "cell_type": "code",
      "source": [
        "class MyNN(Module):\n",
        "    def __init__(self, in_features, num_classes, hide_neurons):\n",
        "        super(MyNN, self).__init__()\n",
        "        self.models = Sequential()\n",
        "        self.models.modules.append(Linear(in_features, hide_neurons))\n",
        "        self.models.modules.append(ReLU())\n",
        "        self.models.modules.append(Linear(hide_neurons, num_classes))\n",
        "        # self.models.modules.append(Linear(in_features, hide_neurons))\n",
        "        # self.models.modules.append(BatchNormalization(hide_neurons))\n",
        "        # self.models.modules.append(LeakyReLU())\n",
        "\n",
        "        # self.models.modules.append(Linear(hide_neurons, hide_neurons // 2))\n",
        "        # self.models.modules.append(BatchNormalization(hide_neurons // 2))\n",
        "        # self.models.modules.append(LeakyReLU())\n",
        "\n",
        "        # self.models.modules.append(Linear(hide_neurons // 2, num_classes))\n",
        "    def updateOutput(self, x):\n",
        "        for layer in self.models.modules:\n",
        "            x = layer.updateOutput(x) if hasattr(layer, \"updateOutput\") else x\n",
        "        return x\n",
        "    # def updateGradInput(self, x, grad_output):\n",
        "    #   for layer in reversed(self.models.modules):\n",
        "    #       grad_output = layer.updateGradInput(x, grad_output) if hasattr(layer, \"updateGradInput\") else grad_output\n",
        "    #   return grad_output\n",
        "    # def updateGradInput(self, x, grad_output):\n",
        "    #     for layer in reversed(self.models.modules):\n",
        "    #         grad_output = layer.updateGradInput(grad_output) if hasattr(layer, \"updateGradInput\") else grad_output\n",
        "    #     return grad_output\n",
        "    def updateGradInput(self, x, grad_output):\n",
        "        for i in range(len(self.models.modules) - 1, -1, -1):\n",
        "            layer = self.models.modules[i]\n",
        "            x = self.models.modules[i-1].output if i > 0 else x  # Берем правильный input\n",
        "            grad_output = layer.updateGradInput(x, grad_output) if hasattr(layer, \"updateGradInput\") else grad_output\n",
        "        return grad_output\n",
        "\n",
        "    def accGradParameters(self, x, grad_output):\n",
        "        for layer in self.models.modules:\n",
        "            if hasattr(layer, \"accGradParameters\"):\n",
        "                layer.accGradParameters(x, grad_output)\n",
        "\n",
        "    def getParameters(self):\n",
        "        params = []\n",
        "        for layer in self.models.modules:\n",
        "            if hasattr(layer, \"getParameters\"):\n",
        "                params.extend(layer.getParameters())\n",
        "        return params\n",
        "\n",
        "    def getGradParameters(self):\n",
        "        grads = []\n",
        "        for layer in self.models.modules:\n",
        "            if hasattr(layer, \"getGradParameters\"):\n",
        "                grads.extend(layer.getGradParameters())\n",
        "        return grads\n",
        "\n",
        "    def zeroGradParameters(self):\n",
        "        for layer in self.models.modules:\n",
        "            if hasattr(layer, \"zeroGradParameters\"):\n",
        "                layer.zeroGradParameters()\n",
        "\n",
        "    def train(self):\n",
        "        \"\"\"Метод для включения режима обучения.\"\"\"\n",
        "        pass\n",
        "\n",
        "    def eval(self):\n",
        "        \"\"\"Метод для включения режима оценки.\"\"\"\n",
        "        pass"
      ],
      "metadata": {
        "id": "gdn2WeWQZEKi"
      },
      "id": "gdn2WeWQZEKi",
      "execution_count": 60,
      "outputs": []
    },
    {
      "cell_type": "code",
      "source": [
        "def r2_score(y_true, y_pred):\n",
        "    ss_total = np.sum((y_true - np.mean(y_true)) ** 2)\n",
        "    ss_residual = np.sum((y_true - y_pred) ** 2)\n",
        "    return 1 - (ss_residual / ss_total)"
      ],
      "metadata": {
        "id": "vCxx_BRPZaio"
      },
      "id": "vCxx_BRPZaio",
      "execution_count": 61,
      "outputs": []
    },
    {
      "cell_type": "code",
      "source": [
        "def train_model(model, optimizer, X_train, y_train, X_test, y_test, epochs=99):\n",
        "    train_losses = []\n",
        "    test_losses = []\n",
        "    train_r2_scores = []\n",
        "    test_r2_scores = []\n",
        "\n",
        "    for epoch in range(epochs):\n",
        "        model.zeroGradParameters()\n",
        "        train_loss = 0\n",
        "        train_r2 = 0\n",
        "\n",
        "        for i in range(0, len(X_train), 32):\n",
        "            X_batch = X_train[i:i+32]\n",
        "            y_batch = y_train[i:i+32]\n",
        "\n",
        "            output = model.updateOutput(X_batch)\n",
        "            loss = mse_loss(output, y_batch)\n",
        "            train_loss += loss\n",
        "\n",
        "\n",
        "            train_r2 += r2_score(y_batch, output)\n",
        "\n",
        "            grad_output = (output - y_batch) / len(X_batch)\n",
        "            model.updateGradInput(X_batch, grad_output)\n",
        "            model.accGradParameters(X_batch, grad_output)\n",
        "            optimizer.step()\n",
        "\n",
        "        train_losses.append(train_loss / (len(X_train) // 32))\n",
        "        train_r2_scores.append(train_r2 / (len(X_train) // 32))\n",
        "\n",
        "\n",
        "        test_loss = 0\n",
        "        test_r2 = 0\n",
        "        for i in range(0, len(X_test), 32):\n",
        "            X_batch = X_test[i:i+32]\n",
        "            y_batch = y_test[i:i+32]\n",
        "\n",
        "            output = model.updateOutput(X_batch)\n",
        "            test_loss += mse_loss(output, y_batch)\n",
        "\n",
        "\n",
        "            test_r2 += r2_score(y_batch, output)\n",
        "\n",
        "        test_losses.append(test_loss / (len(X_test) // 32))\n",
        "        test_r2_scores.append(test_r2 / (len(X_test) // 32))\n",
        "\n",
        "\n",
        "        # print(f\"Epoch {epoch+1}/{epochs}, Train Loss: {train_losses[-1]:.4f}, Test Loss: {test_losses[-1]:.4f}, Train R²: {train_r2_scores[-1]:.4f}, Test R²: {test_r2_scores[-1]:.4f}\")\n",
        "\n",
        "    return train_losses, test_losses, train_r2_scores, test_r2_scores"
      ],
      "metadata": {
        "id": "hCJolY8PZFmn"
      },
      "id": "hCJolY8PZFmn",
      "execution_count": 62,
      "outputs": []
    },
    {
      "cell_type": "code",
      "source": [
        "model = MyNN(in_features=X_train.shape[1], num_classes=y_train.shape[1], hide_neurons=16)\n",
        "optimizer = Adam(model, lr=0.9)\n",
        "\n",
        "\n",
        "train_losses, test_losses, train_r2_scores, test_r2_scores = train_model(model, optimizer, X_train, y_train, X_test, y_test)\n",
        "\n",
        "\n",
        "plt.plot(range(1, 100), train_losses, label='Train Loss')\n",
        "plt.plot(range(1, 100), test_losses, label='Test Loss')\n",
        "plt.xlabel('Epochs')\n",
        "plt.ylabel('Loss')\n",
        "plt.title('Training and Test Losses')\n",
        "plt.legend()\n",
        "plt.show()"
      ],
      "metadata": {
        "colab": {
          "base_uri": "https://localhost:8080/",
          "height": 472
        },
        "id": "ADOzsHhlU_ax",
        "outputId": "1651f884-a090-43ed-905e-0c21a823885f"
      },
      "id": "ADOzsHhlU_ax",
      "execution_count": 63,
      "outputs": [
        {
          "output_type": "display_data",
          "data": {
            "text/plain": [
              "<Figure size 640x480 with 1 Axes>"
            ],
            "image/png": "[encoded data removed]"
          },
          "metadata": {}
        }
      ]
    },
    {
      "cell_type": "markdown",
      "source": [
        "## Попытка 2...."
      ],
      "metadata": {
        "id": "Z-FzCxBGdH3M"
      },
      "id": "Z-FzCxBGdH3M"
    },
    {
      "cell_type": "code",
      "source": [
        "class MyNN(Module):\n",
        "    def __init__(self, in_features, num_classes, hide_neurons):\n",
        "        super(MyNN, self).__init__()\n",
        "        self.models = Sequential()\n",
        "        self.models.modules.append(Linear(in_features, hide_neurons))\n",
        "        self.models.modules.append(BatchNormalization(hide_neurons))\n",
        "        self.models.modules.append(LeakyReLU())\n",
        "\n",
        "        self.models.modules.append(Linear(hide_neurons, hide_neurons // 2))\n",
        "        self.models.modules.append(BatchNormalization(hide_neurons // 2))\n",
        "        self.models.modules.append(LeakyReLU())\n",
        "\n",
        "        self.models.modules.append(Linear(hide_neurons // 2, num_classes))\n",
        "\n",
        "    def updateOutput(self, x):\n",
        "        for layer in self.models.modules:\n",
        "            if hasattr(layer, \"updateOutput\"):\n",
        "                x = layer.updateOutput(x)\n",
        "        self.output = x\n",
        "        return x\n",
        "\n",
        "    # def updateOutput(self, x):\n",
        "    #     for layer in self.models.modules:\n",
        "    #         x = layer.updateOutput(x) if hasattr(layer, \"updateOutput\") else x\n",
        "    #     return x\n",
        "    # def updateGradInput(self, x, grad_output):\n",
        "    #   for layer in reversed(self.models.modules):\n",
        "    #       grad_output = layer.updateGradInput(x, grad_output) if hasattr(layer, \"updateGradInput\") else grad_output\n",
        "    #   return grad_output\n",
        "    # def updateGradInput(self, x, grad_output):\n",
        "    #     for layer in reversed(self.models.modules):\n",
        "    #         grad_output = layer.updateGradInput(grad_output) if hasattr(layer, \"updateGradInput\") else grad_output\n",
        "    #     return grad_output\n",
        "    def updateGradInput(self, x, grad_output):\n",
        "        for i in range(len(self.models.modules) - 1, -1, -1):\n",
        "            layer = self.models.modules[i]\n",
        "            x = self.models.modules[i-1].output if i > 0 else x\n",
        "            grad_output = layer.updateGradInput(x, grad_output) if hasattr(layer, \"updateGradInput\") else grad_output\n",
        "        return grad_output\n",
        "\n",
        "    def accGradParameters(self, x, grad_output):\n",
        "        for layer in self.models.modules:\n",
        "            if hasattr(layer, \"accGradParameters\"):\n",
        "                layer.accGradParameters(x, grad_output)\n",
        "\n",
        "    def getParameters(self):\n",
        "        params = []\n",
        "        for layer in self.models.modules:\n",
        "            if hasattr(layer, \"getParameters\"):\n",
        "                params.extend(layer.getParameters())\n",
        "        return params\n",
        "\n",
        "    def getGradParameters(self):\n",
        "        grads = []\n",
        "        for layer in self.models.modules:\n",
        "            if hasattr(layer, \"getGradParameters\"):\n",
        "                grads.extend(layer.getGradParameters())\n",
        "        return grads\n",
        "\n",
        "    def zeroGradParameters(self):\n",
        "        for layer in self.models.modules:\n",
        "            if hasattr(layer, \"zeroGradParameters\"):\n",
        "                layer.zeroGradParameters()\n",
        "\n",
        "    def train(self):\n",
        "        \"\"\"Метод для включения режима обучения.\"\"\"\n",
        "        pass\n",
        "\n",
        "    def eval(self):\n",
        "        \"\"\"Метод для включения режима оценки.\"\"\"\n",
        "        pass"
      ],
      "metadata": {
        "id": "R-90V5MNU_Wi"
      },
      "id": "R-90V5MNU_Wi",
      "execution_count": 64,
      "outputs": []
    },
    {
      "cell_type": "code",
      "source": [
        "model = MyNN(in_features=X_train.shape[1], num_classes=y_train.shape[1], hide_neurons=16)\n",
        "optimizer = Adam(model, lr=0.9)\n",
        "\n",
        "train_losses, test_losses, train_r2_scores, test_r2_scores = train_model(model, optimizer, X_train, y_train, X_test, y_test)\n",
        "\n",
        "plt.plot(range(1, 100), train_losses, label='Train Loss')\n",
        "plt.plot(range(1, 100), test_losses, label='Test Loss')\n",
        "plt.xlabel('Epochs')\n",
        "plt.ylabel('Loss')\n",
        "plt.title('Training and Test Losses')\n",
        "plt.legend()\n",
        "plt.show()"
      ],
      "metadata": {
        "colab": {
          "base_uri": "https://localhost:8080/",
          "height": 541
        },
        "id": "AA85z6yvU_RO",
        "outputId": "5e126522-efad-4b15-a988-9b26eb2fb5d0"
      },
      "id": "AA85z6yvU_RO",
      "execution_count": 65,
      "outputs": [
        {
          "metadata": {
            "tags": null
          },
          "name": "stderr",
          "output_type": "stream",
          "text": [
            "<ipython-input-54-3da6f7731f21>:19: RuntimeWarning: overflow encountered in multiply\n",
            "  self.moving_mean = self.moving_mean * self.alpha + batch_mean * (1 - self.alpha)\n",
            "<ipython-input-54-3da6f7731f21>:20: RuntimeWarning: overflow encountered in multiply\n",
            "  self.moving_variance = self.moving_variance * self.alpha + batch_variance * (1 - self.alpha)\n"
          ]
        },
        {
          "output_type": "display_data",
          "data": {
            "text/plain": [
              "<Figure size 640x480 with 1 Axes>"
            ],
            "image/png": "[encoded data removed]"
          },
          "metadata": {}
        }
      ]
    }
  ],
  "metadata": {
    "kernelspec": {
      "display_name": "Python 3 (ipykernel)",
      "language": "python",
      "name": "python3"
    },
    "language_info": {
      "codemirror_mode": {
        "name": "ipython",
        "version": 3
      },
      "file_extension": ".py",
      "mimetype": "text/x-python",
      "name": "python",
      "nbconvert_exporter": "python",
      "pygments_lexer": "ipython3",
      "version": "3.12.4"
    },
    "colab": {
      "provenance": []
    }
  },
  "nbformat": 4,
  "nbformat_minor": 5
}